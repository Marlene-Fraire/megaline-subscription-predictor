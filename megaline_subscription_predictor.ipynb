{
 "cells": [
  {
   "cell_type": "markdown",
   "id": "0fca5444",
   "metadata": {},
   "source": [
    "**Nota técnica**: Este proyecto fue desarrollado en un entorno local con **Python 3.13.2**.  \n",
    "Las bibliotecas utilizadas son compatibles con Python 3.10+.\n"
   ]
  },
  {
   "cell_type": "markdown",
   "id": "fd195306",
   "metadata": {},
   "source": [
    "# Proyecto Sprint 9 – Introducción al Machine Learning\n",
    "\n",
    "## 1. Introducción\n",
    "\n",
    "Megaline quiere recomendar a sus clientes el plan más adecuado entre dos opciones: *Smart* o *Ultra*. Para ello, desarrollaremos un modelo de clasificación binaria que, con base en el comportamiento mensual de los usuarios, prediga el plan óptimo.\n",
    "\n",
    "- **Tipo de tarea:** Clasificación\n",
    "- **Variable objetivo:** `is_ultra` (1 = Ultra, 0 = Smart)\n",
    "- **Métrica principal:** Exactitud (accuracy)\n",
    "- **Umbral de exactitud requerido:** ≥ 0.75"
   ]
  },
  {
   "cell_type": "markdown",
   "id": "c3e68aa5",
   "metadata": {},
   "source": [
    "# Proyecto Sprint 9 – Introducción al Machine Learning\n",
    "\n",
    "## 1. Introducción\n",
    "\n",
    "Megaline quiere recomendar a sus clientes el plan más adecuado entre dos opciones: *Smart* o *Ultra*. Para ello, desarrollaremos un modelo de clasificación binaria que, con base en el comportamiento mensual de los usuarios, prediga el plan óptimo.\n",
    "\n",
    "- **Tipo de tarea:** Clasificación\n",
    "- **Variable objetivo:** `is_ultra` (1 = Ultra, 0 = Smart)\n",
    "- **Métrica principal:** Exactitud (accuracy)\n",
    "- **Umbral de exactitud requerido:** ≥ 0.75"
   ]
  },
  {
   "cell_type": "markdown",
   "id": "a6ce0e0d",
   "metadata": {},
   "source": [
    "## 2. Importación de librerías"
   ]
  },
  {
   "cell_type": "code",
   "execution_count": 68,
   "id": "925c4587",
   "metadata": {},
   "outputs": [],
   "source": [
    "# Importa todas las librerías\n",
    "import pandas as pd\n",
    "from sklearn.ensemble import RandomForestClassifier\n",
    "from sklearn.linear_model import LogisticRegression\n",
    "import matplotlib.pyplot as plt\n",
    "import numpy as np\n",
    "from sklearn.metrics import accuracy_score\n",
    "from sklearn.model_selection import train_test_split\n",
    "from sklearn.tree import DecisionTreeClassifier\n"
   ]
  },
  {
   "cell_type": "markdown",
   "id": "880a1c02",
   "metadata": {},
   "source": [
    "## 3. Carga de los datos"
   ]
  },
  {
   "cell_type": "code",
   "execution_count": 69,
   "id": "bc8f3163",
   "metadata": {},
   "outputs": [],
   "source": [
    "# Carga el dataset\n",
    "df = pd.read_csv('users_behavior.csv')\n"
   ]
  },
  {
   "cell_type": "code",
   "execution_count": 70,
   "id": "94e02f27",
   "metadata": {},
   "outputs": [
    {
     "name": "stdout",
     "output_type": "stream",
     "text": [
      "Inspección de las primeras filas del DataFrame:\n",
      "\n",
      "   calls  minutes  messages   mb_used  is_ultra\n",
      "0   40.0   311.90      83.0  19915.42         0\n",
      "1   85.0   516.75      56.0  22696.96         0\n",
      "2   77.0   467.66      86.0  21060.45         0\n",
      "3  106.0   745.53      81.0   8437.39         1\n",
      "4   66.0   418.74       1.0  14502.75         0\n",
      "\n",
      "\n",
      "Información general del Dataframe\n",
      "\n",
      "<class 'pandas.core.frame.DataFrame'>\n",
      "RangeIndex: 3214 entries, 0 to 3213\n",
      "Data columns (total 5 columns):\n",
      " #   Column    Non-Null Count  Dtype  \n",
      "---  ------    --------------  -----  \n",
      " 0   calls     3214 non-null   float64\n",
      " 1   minutes   3214 non-null   float64\n",
      " 2   messages  3214 non-null   float64\n",
      " 3   mb_used   3214 non-null   float64\n",
      " 4   is_ultra  3214 non-null   int64  \n",
      "dtypes: float64(4), int64(1)\n",
      "memory usage: 125.7 KB\n",
      "None\n",
      "\n",
      "\n",
      "Número de filas duplicadas: 0\n",
      "\n",
      "\n",
      "Estadísticas descriptivas\n",
      "\n",
      "             calls      minutes     messages       mb_used     is_ultra\n",
      "count  3214.000000  3214.000000  3214.000000   3214.000000  3214.000000\n",
      "mean     63.038892   438.208787    38.281269  17207.673836     0.306472\n",
      "std      33.236368   234.569872    36.148326   7570.968246     0.461100\n",
      "min       0.000000     0.000000     0.000000      0.000000     0.000000\n",
      "25%      40.000000   274.575000     9.000000  12491.902500     0.000000\n",
      "50%      62.000000   430.600000    30.000000  16943.235000     0.000000\n",
      "75%      82.000000   571.927500    57.000000  21424.700000     1.000000\n",
      "max     244.000000  1632.060000   224.000000  49745.730000     1.000000\n"
     ]
    }
   ],
   "source": [
    "# Vista previa de los datos:\n",
    "print('Inspección de las primeras filas del DataFrame:')\n",
    "print()\n",
    "print(df.head())\n",
    "print()\n",
    "print()\n",
    "# Imprime la información general sobre el DataFrame \"df\"\n",
    "print('Información general del Dataframe')\n",
    "print()\n",
    "print(df.info())\n",
    "print()\n",
    "print()\n",
    "# Identifica filas duplicadas\n",
    "print(f'Número de filas duplicadas: {df.duplicated().sum()}')\n",
    "print()\n",
    "print()\n",
    "# Imprime la información resumida sobre el DataFrame\n",
    "print('Estadísticas descriptivas')\n",
    "print()\n",
    "print(df.describe())\n"
   ]
  },
  {
   "cell_type": "markdown",
   "id": "8aba3c78",
   "metadata": {},
   "source": [
    "## 4. Análisis Exploratorio y Preparación de Datos\n",
    "\n",
    "Antes de entrenar nuestros modelos, realizamos una breve exploración del dataset para asegurarnos de su limpieza y coherencia:\n",
    "\n",
    "- No existen valores nulos ni duplicados.\n",
    "- Los valores en las variables `calls` y `messages` deben ser convertidos a enteros, ya que no se pueden realizar medias llamadas ni medios mensajes. Las convertiremos a `int`.\n",
    "- Las variables `minutes` y `mb_used` se mantendrán como `float`, pues reflejan duración y consumo exactos.\n",
    "- Se utiliza `describe()` para observar la distribución general de las variables numéricas y validar consistencia.\n",
    "\n",
    "Una vez realizado esto, estaremos listos para separar las características (`features`) del objetivo (`target`)."
   ]
  },
  {
   "cell_type": "code",
   "execution_count": 71,
   "id": "7e1f8dcc",
   "metadata": {},
   "outputs": [
    {
     "data": {
      "text/plain": [
       "calls         int64\n",
       "minutes     float64\n",
       "messages      int64\n",
       "mb_used     float64\n",
       "is_ultra      int64\n",
       "dtype: object"
      ]
     },
     "execution_count": 71,
     "metadata": {},
     "output_type": "execute_result"
    }
   ],
   "source": [
    "# Convierte los valores en \"calls\" y \"messages\" a enteros\n",
    "df['calls'] = df['calls'].astype(int)\n",
    "df['messages'] = df['messages'].astype(int)\n",
    "\n",
    "# Valida cambios\n",
    "df.dtypes\n"
   ]
  },
  {
   "cell_type": "markdown",
   "id": "7019378b",
   "metadata": {},
   "source": [
    "## 5. División del Dataset\n",
    "\n",
    "Dividiremos el dataset en tres conjuntos: *entrenamiento*, *validación* y *prueba*. Esto nos permitirá entrenar el modelo, ajustar hiperparámetros y evaluar su rendimiento final.\n",
    "\n",
    "La distribución será:\n",
    "- **60%** para entrenamiento\n",
    "- **20%** para validación\n",
    "- **20%** para prueba\n",
    "\n",
    "Utilizamos la función `train_test_split()` de `sklearn.model_selection` y fijamos `random_state=12345` para asegurar la reproducibilidad de resultados."
   ]
  },
  {
   "cell_type": "code",
   "execution_count": 72,
   "id": "be6e3b69",
   "metadata": {},
   "outputs": [
    {
     "name": "stdout",
     "output_type": "stream",
     "text": [
      "Tamaño del conjunto de entrenamiento: (1928, 4)\n",
      "Tamaño del conjunto de validación: (643, 4)\n",
      "Tamaño del conjunto de prueba: (643, 4)\n"
     ]
    }
   ],
   "source": [
    "# Separar el objetivo de las características\n",
    "features = df.drop(columns='is_ultra')\n",
    "target = df['is_ultra']\n",
    "\n",
    "# Primera división: entrenamiento+validación (80%) y prueba (20%)\n",
    "features_train_val, features_test, target_train_val, target_test = train_test_split(\n",
    "    features, target, test_size=0.2, random_state=12345\n",
    "    )\n",
    "\n",
    "\n",
    "# Segunda división: entrenamiento (75% de 80% = 60%) y validación (25% de 80% = 20%)\n",
    "features_train, features_valid, target_train, target_valid = train_test_split(\n",
    "    features_train_val, target_train_val, test_size=0.25, random_state=12345\n",
    "    )\n",
    "\n",
    "# Comprueba las dimensiones\n",
    "print('Tamaño del conjunto de entrenamiento:', features_train.shape)\n",
    "print('Tamaño del conjunto de validación:', features_valid.shape)\n",
    "print('Tamaño del conjunto de prueba:', features_test.shape)"
   ]
  },
  {
   "cell_type": "markdown",
   "id": "cb11e7a9",
   "metadata": {},
   "source": [
    "## 6. Primer Modelo: Árbol de Decisión\n",
    "\n",
    "Como primer modelo base, utilizaremos un árbol de decisión con su configuración por defecto. Este modelo nos permitirá establecer un punto de comparación para modelos más complejos.\n",
    "\n",
    "Entrenaremos el modelo con el conjunto de entrenamiento y evaluaremos su rendimiento con el conjunto de validación. La métrica usada será la **exactitud (accuracy)**."
   ]
  },
  {
   "cell_type": "code",
   "execution_count": 73,
   "id": "5a8329f5",
   "metadata": {},
   "outputs": [
    {
     "name": "stdout",
     "output_type": "stream",
     "text": [
      "Exactitud del Árbol de Decisión (modelo base): 0.7123\n"
     ]
    }
   ],
   "source": [
    "# Crea el modelo\n",
    "model_tree = DecisionTreeClassifier(random_state=12345)\n",
    "\n",
    "# Entrena el modelo\n",
    "model_tree.fit(features_train, target_train)\n",
    "\n",
    "# Predecir en conjunto de validación\n",
    "predictions_valid = model_tree.predict(features_valid)\n",
    "\n",
    "# Calcular exactitud\n",
    "accuracy = accuracy_score(target_valid, predictions_valid)\n",
    "\n",
    "print(\"Exactitud del Árbol de Decisión (modelo base):\", round(accuracy, 4))"
   ]
  },
  {
   "cell_type": "markdown",
   "id": "d9870db7",
   "metadata": {},
   "source": [
    "## 7. Ajuste del Árbol de Decisión: Prueba de diferentes profundidades\n",
    "\n",
    "Ajustaremos el hiperparámetro `max_depth` del árbol de decisión para ver si mejora la exactitud del modelo.\n",
    "\n",
    "Probaremos valores de profundidad del 1 al 10 y evaluaremos el rendimiento en el conjunto de validación."
   ]
  },
  {
   "cell_type": "code",
   "execution_count": 74,
   "id": "795abd91",
   "metadata": {},
   "outputs": [
    {
     "name": "stdout",
     "output_type": "stream",
     "text": [
      "Profundidad  | Exactitud\n",
      "-------------------------\n",
      "     1       | 0.7387\n",
      "     2       | 0.7574\n",
      "     3       | 0.7652\n",
      "     4       | 0.7636\n",
      "     5       | 0.7589\n",
      "     6       | 0.7574\n",
      "     7       | 0.7745\n",
      "     8       | 0.7667\n",
      "     9       | 0.7621\n",
      "     10      | 0.7714\n",
      "\n",
      "Mejor profundidad: 7\n",
      "Mejor exactitud en validación: 0.7745\n"
     ]
    }
   ],
   "source": [
    "best_depth = None\n",
    "best_accuracy = 0\n",
    "\n",
    "print('Profundidad  | Exactitud')\n",
    "print('-' * 25)\n",
    "\n",
    "for depth in range(1, 11):\n",
    "    model = DecisionTreeClassifier(random_state=12345, max_depth=depth)\n",
    "    model.fit(features_train, target_train)\n",
    "    predictions_valid = model.predict(features_valid)\n",
    "    accuracy = accuracy_score(target_valid, predictions_valid)\n",
    "\n",
    "    print(f'{depth:^12} | {accuracy:.4f}')\n",
    "\n",
    "    if accuracy > best_accuracy:\n",
    "        best_accuracy = accuracy\n",
    "        best_depth = depth\n",
    "\n",
    "print('\\nMejor profundidad:', best_depth)\n",
    "print('Mejor exactitud en validación:', round(best_accuracy, 4))"
   ]
  },
  {
   "cell_type": "markdown",
   "id": "4557fca7",
   "metadata": {},
   "source": [
    "## 8. Visualización de la Exactitud vs. Profundidad del Árbol\n",
    "\n",
    "Para identificar visualmente la mejor profundidad del árbol de decisión, graficaremos la exactitud obtenida en el conjunto de validación para cada valor de `max_depth`.\n",
    "\n",
    "Esto nos ayuda a detectar tendencias y posibles síntomas de sobreajuste.\n"
   ]
  },
  {
   "cell_type": "code",
   "execution_count": 75,
   "id": "326d3b25",
   "metadata": {},
   "outputs": [
    {
     "data": {
      "image/png": "[encoded data removed]",
      "text/plain": [
       "<Figure size 1000x500 with 1 Axes>"
      ]
     },
     "metadata": {},
     "output_type": "display_data"
    }
   ],
   "source": [
    "# Listas para guardar resultados\n",
    "depths = []\n",
    "accuracies = []\n",
    "\n",
    "# Evalúa cada profundidad y guarda los resultados\n",
    "for depth in range(1, 11):\n",
    "    model = DecisionTreeClassifier(random_state=12345, max_depth=depth)\n",
    "    model.fit(features_train, target_train)\n",
    "    predictions_valid = model.predict(features_valid)\n",
    "    accuracy = accuracy_score(target_valid, predictions_valid)\n",
    "\n",
    "    depths.append(depth)\n",
    "    accuracies.append(accuracy)\n",
    "\n",
    "# Crea figura y eje\n",
    "fig, ax = plt.subplots(figsize=(10,5))\n",
    "\n",
    "# Crear la línea\n",
    "ax.plot(depths, accuracies, marker='o')\n",
    "\n",
    "# Etiquetas y título\n",
    "ax.set_title('Exactitud vs. Profundidad del Árbol de Decisión', fontsize=14)\n",
    "ax.set_xlabel('Profundidad máxima (max_depth)', fontsize=12)\n",
    "ax.set_ylabel('Exactitud en validación', fontsize=12)\n",
    "\n",
    "# Marca puntos del eje X y agregar cuadrícula\n",
    "ax.set_xticks(depths)\n",
    "ax.grid(True)\n",
    "\n",
    "# Muestra la gráfica\n",
    "plt.show()"
   ]
  },
  {
   "cell_type": "markdown",
   "id": "85eaecac",
   "metadata": {},
   "source": [
    "## 9. Modelo con Random Forest: Ajuste del número de estimadores\n",
    "\n",
    "Probaremos distintos valores de `n_estimators` para el clasificador Random Forest y evaluaremos la exactitud en el conjunto de validación.\n",
    "\n",
    "Esto nos permitirá identificar cuántos árboles logran el mejor equilibrio entre rendimiento y precisión.\n"
   ]
  },
  {
   "cell_type": "code",
   "execution_count": 76,
   "id": "51fa5013",
   "metadata": {},
   "outputs": [
    {
     "name": "stdout",
     "output_type": "stream",
     "text": [
      "n_estimators  |  Exactitud\n",
      "------------------------------\n",
      "      1       |  0.7030\n",
      "      2       |  0.7574\n",
      "      3       |  0.7449\n",
      "      4       |  0.7652\n",
      "      5       |  0.7621\n",
      "      6       |  0.7698\n",
      "      7       |  0.7714\n",
      "      8       |  0.7869\n",
      "      9       |  0.7838\n",
      "     10       |  0.7885\n",
      "     11       |  0.7807\n",
      "     12       |  0.7823\n",
      "     13       |  0.7776\n",
      "     14       |  0.7854\n",
      "     15       |  0.7838\n",
      "     16       |  0.7838\n",
      "     17       |  0.7776\n",
      "     18       |  0.7869\n",
      "     19       |  0.7869\n",
      "     20       |  0.7900\n",
      "\n",
      "Mejor número de árboles: 20\n",
      "Mejor exactitud en validación: 0.7900\n"
     ]
    }
   ],
   "source": [
    "best_est = None\n",
    "best_score = 0\n",
    "\n",
    "print('n_estimators  |  Exactitud')\n",
    "print('-'*30)\n",
    "\n",
    "for est in range(1, 21):\n",
    "    model = RandomForestClassifier(random_state=12345, n_estimators=est)\n",
    "    model.fit(features_train, target_train)\n",
    "    predictions_valid = model.predict(features_valid)\n",
    "    score = accuracy_score(target_valid, predictions_valid)\n",
    "\n",
    "    print(f'{est:^13} |  {score:.4f}')\n",
    "\n",
    "    if score > best_score:\n",
    "        best_score = score\n",
    "        best_est = est\n",
    "\n",
    "print('\\nMejor número de árboles:', best_est)\n",
    "print(f'Mejor exactitud en validación: {best_score:.4f}')"
   ]
  },
  {
   "cell_type": "markdown",
   "id": "12eece07",
   "metadata": {},
   "source": [
    "## 10. Visualización de la Exactitud vs. Número de Estimadores\n",
    "\n",
    "Para identificar visualmente cuántos árboles generan el mejor rendimiento, graficaremos la exactitud obtenida en el conjunto de validación para cada valor de `n_estimators`.\n",
    "\n",
    "Esto nos permitirá a detectar tendencias, mejorar la interpretación del modelo y elegir la configuración óptima. "
   ]
  },
  {
   "cell_type": "code",
   "execution_count": 77,
   "id": "0236f1fe",
   "metadata": {},
   "outputs": [
    {
     "data": {
      "image/png": "[encoded data removed]",
      "text/plain": [
       "<Figure size 1000x500 with 1 Axes>"
      ]
     },
     "metadata": {},
     "output_type": "display_data"
    }
   ],
   "source": [
    "# Guarda los resultados para graficar\n",
    "estimators = []\n",
    "scores = []\n",
    "\n",
    "for est in range(1, 21):\n",
    "    model = RandomForestClassifier(random_state=12345, n_estimators=est)\n",
    "    model.fit(features_train, target_train)\n",
    "    predictions_valid = model.predict(features_valid)\n",
    "    score = accuracy_score(target_valid, predictions_valid)\n",
    "\n",
    "    estimators.append(est)\n",
    "    scores.append(score)\n",
    "\n",
    "\n",
    "# Crea gráfica\n",
    "fig, ax = plt.subplots(figsize=(10, 5))\n",
    "ax.plot(estimators, scores, marker='o')\n",
    "ax.set_title('Exactitud vs. Número de Estimadores (Random Forest)', fontsize=14)\n",
    "ax.set_xlabel('Número de árboles (n_estimators)', fontsize=12)\n",
    "ax.set_ylabel('Exactitud en validación', fontsize=12)\n",
    "ax.set_xticks(estimators)\n",
    "ax.grid(True)\n",
    "\n",
    "# Muestra el gráfico\n",
    "plt.show()"
   ]
  },
  {
   "cell_type": "markdown",
   "id": "d118195d",
   "metadata": {},
   "source": [
    "## 11. Modelo con Regresión Logística\n",
    "\n",
    "Como tercera alternativa, probaremos un modelo de regresión logística. Este tipo de modelo es útil para realizar una clasificación binaria y suele ofrecer buenos resultados cuando las relaciones entre variables son aproximadamente lineales.\n",
    "\n",
    "Entrenaremos el modelo con el conjunto de entrenamiento y evaluaremos su exactitud con el conjunto de validación.\n"
   ]
  },
  {
   "cell_type": "code",
   "execution_count": 78,
   "id": "3f416c81",
   "metadata": {},
   "outputs": [
    {
     "name": "stdout",
     "output_type": "stream",
     "text": [
      "Exactitud de Regresión Logística: 0.7263\n"
     ]
    }
   ],
   "source": [
    "# Crea el modelo usando \"lbfgs\"\n",
    "model_logreg = LogisticRegression(random_state=12345, solver='lbfgs', max_iter=1000)\n",
    "\n",
    "# Entrena el modelo\n",
    "model_logreg.fit(features_train, target_train)\n",
    "\n",
    "# Predice en conjunto de validación\n",
    "predictions_valid = model_logreg.predict(features_valid)\n",
    "\n",
    "# Calcula exactitud\n",
    "accuracy_logreg = accuracy_score(target_valid, predictions_valid)\n",
    "\n",
    "print(\"Exactitud de Regresión Logística:\", round(accuracy_logreg, 4))"
   ]
  },
  {
   "cell_type": "code",
   "execution_count": 79,
   "id": "10782d0e",
   "metadata": {},
   "outputs": [
    {
     "name": "stdout",
     "output_type": "stream",
     "text": [
      "Exactitud de Regresión Logística: 0.7294\n"
     ]
    }
   ],
   "source": [
    "# Crea el modelo usando \"liblinear\"\n",
    "model_logreglib = LogisticRegression(random_state=12345, solver='liblinear')\n",
    "\n",
    "# Entrena el modelo\n",
    "model_logreglib.fit(features_train, target_train)\n",
    "\n",
    "# Predice en conjunto de validación\n",
    "predictions_valid_lib = model_logreglib.predict(features_valid)\n",
    "\n",
    "# Calcula exactitud\n",
    "accuracy_logreglib = accuracy_score(target_valid, predictions_valid_lib)\n",
    "\n",
    "print(\"Exactitud de Regresión Logística:\", round(accuracy_logreglib, 4))"
   ]
  },
  {
   "cell_type": "markdown",
   "id": "59564ae4",
   "metadata": {},
   "source": [
    "**Observaciones**\n",
    "\n",
    "Probamos el modelo de regresión logística con dos algoritmos de entrenamiento diferentes (`lbfgs` y `liblinear`), ambos recomendados para clasificación binaria.\n",
    "\n",
    "Aunque sus resultados fueron muy similares, `liblinear` obtuvo una exactitud ligeramente mayor sobre el conjunto de validación, por lo que seleccionamos esta versión como la definitiva para esta técnica.\n",
    "\n",
    "Dado que el propósito principal de este experimento es evaluar la precisión de clasificación, optamos por el *solver* con mejor rendimiento empírico en este caso específico.\n"
   ]
  },
  {
   "cell_type": "markdown",
   "id": "6d152739",
   "metadata": {},
   "source": [
    "## 12. Comparación de Modelos\n",
    "\n",
    "Compararemos el rendimiento de los tres modelos entrenados (Árbol de Decisión, Bosque Aleatorio y Regresión Logística) utilizando el conjunto de validación.\n",
    "\n",
    "El modelo con mayor exactitud será evaluado finalmente con el conjunto de prueba para determinar su capacidad de generalización (capacidad para realizar predicciones precisas al enfrentarse con información nueva y nunca antes vista).\n"
   ]
  },
  {
   "cell_type": "code",
   "execution_count": 80,
   "id": "3f6ad29c",
   "metadata": {},
   "outputs": [
    {
     "name": "stdout",
     "output_type": "stream",
     "text": [
      "Exactitud - Árbol de Decisión: 0.7745\n",
      "Exactitud - Bosque Aleatorio: 0.79\n",
      "Exactitud - Regresión Logísica: 0.7294\n"
     ]
    }
   ],
   "source": [
    "# Comparación final en el dataset de validación\n",
    "\n",
    "# Árbol de Decisión con mejor profundidad\n",
    "best_tree = DecisionTreeClassifier(random_state=12345, max_depth=best_depth)\n",
    "best_tree.fit(features_train, target_train)\n",
    "pred_tree_valid = best_tree.predict(features_valid)\n",
    "acc_tree = accuracy_score(target_valid, pred_tree_valid)\n",
    "\n",
    "# Bosque aleatorio con mejor número de estimadores\n",
    "best_forest = RandomForestClassifier(random_state=12345, n_estimators=best_est)\n",
    "best_forest.fit(features_train, target_train)\n",
    "pred_forest_valid = best_forest.predict(features_valid)\n",
    "acc_forest = accuracy_score(target_valid, pred_forest_valid)\n",
    "\n",
    "# Regresión logística (liblinear)\n",
    "model_logreg_final = LogisticRegression(random_state=12345, solver='liblinear')\n",
    "model_logreg_final.fit(features_train, target_train)\n",
    "pred_logreg_valid = model_logreg_final.predict(features_valid)\n",
    "acc_logreg = accuracy_score(target_valid, pred_logreg_valid)\n",
    "\n",
    "# Muestra resultados\n",
    "print('Exactitud - Árbol de Decisión:', round(acc_tree, 4))\n",
    "print('Exactitud - Bosque Aleatorio:', round(acc_forest, 4))\n",
    "print('Exactitud - Regresión Logísica:', round(acc_logreg, 4))"
   ]
  },
  {
   "cell_type": "code",
   "execution_count": 81,
   "id": "3a2887d2",
   "metadata": {},
   "outputs": [
    {
     "name": "stdout",
     "output_type": "stream",
     "text": [
      "\n",
      "Mejor modelo según la validación: Random Forest\n"
     ]
    }
   ],
   "source": [
    "# Eleccion del mejor modelo\n",
    "\n",
    "# Crea un diccionario con los resultados\n",
    "model_scores = {\n",
    "    'Decision Tree': acc_tree,\n",
    "    'Random Forest': acc_forest,\n",
    "    'Logistic Regression': acc_logreg\n",
    "}\n",
    "\n",
    "# Elige el mejor modelo\n",
    "best_model_name = max(model_scores, key=model_scores.get)\n",
    "print('\\nMejor modelo según la validación:', best_model_name)"
   ]
  },
  {
   "cell_type": "code",
   "execution_count": 82,
   "id": "f609a7ac",
   "metadata": {},
   "outputs": [
    {
     "name": "stdout",
     "output_type": "stream",
     "text": [
      "\n",
      "Exactitud final en el conjunto de prueba: 0.7527\n"
     ]
    }
   ],
   "source": [
    "# Evaluación final con conjunto de prueba\n",
    "if best_model_name == 'Decision Tree':\n",
    "    final_model = best_tree\n",
    "elif best_model_name == 'RandomForest':\n",
    "    final_model = best_forest\n",
    "else:\n",
    "    final_model = model_logreg_final\n",
    "\n",
    "pred_test = final_model.predict(features_test)\n",
    "acc_test = accuracy_score(target_test, pred_test)\n",
    "\n",
    "print('\\nExactitud final en el conjunto de prueba:', round(acc_test, 4))"
   ]
  },
  {
   "cell_type": "markdown",
   "id": "ca0c96cb",
   "metadata": {},
   "source": [
    "## 13. Evaluación Final del Modelo\n",
    "\n",
    "Después de comparar el rendimiento de los tres modelos entrenados utilizando el conjunto de validación, seleccionamos el modelo con mayor exactitud para evaluarlo en el conjunto de prueba.\n",
    "\n",
    "Los resultados en el conjunto de validación fueron los siguientes:\n",
    "\n",
    "- Árbol de Decisión: 0.7745\n",
    "- Bosque Aleatorio: 0.7900\n",
    "- Regresión Logística: 0.7294\n",
    "\n",
    "El modelo con mejor rendimiento fue: **Bosque Aleatorio**, por lo que fue el que utilizamos para predecir el conjunto de prueba.\n",
    "\n",
    "### Resultado final:\n",
    "**Exactitud del modelo en el conjunto de prueba: 0.7527**\n",
    "\n",
    "Este valor cumple con el umbral establecido de 0.75, lo cual indica que el modelo es confiable para recomendar planes a clientes de Megaline con base en su comportamiento mensual.\n",
    "\n",
    "El modelo demostró una buena capacidad de generalización y puede ser considerado como una solución viable para reemplazar los planes heredados por los planes *Smart* y *Ultra*.\n"
   ]
  },
  {
   "cell_type": "markdown",
   "id": "1cde10af",
   "metadata": {},
   "source": [
    "## 14. Prueba de Cordura\n",
    "\n",
    "Para confirmar que nuestro modelo realmente aprende de los datos y no actúa como una simple estrategia aleatoria, realizaremos una prueba de cordura.\n",
    "\n",
    "Simularemos un modelo que predice al azar entre las clases disponibles (`0` y `1`) y comparamos su exactitud con la del modelo entrenado.\n",
    "\n",
    "Si nuestro modelo tiene un desempeño significativamente mejor que el aleatorio (mayor a 0.5), podremos confirmar que **hay aprendizaje real** en lugar de azar.\n"
   ]
  },
  {
   "cell_type": "code",
   "execution_count": 83,
   "id": "58121358",
   "metadata": {},
   "outputs": [
    {
     "name": "stdout",
     "output_type": "stream",
     "text": [
      "Exactitud del modelo aleatorio: 0.4899\n",
      "Exactitud del mejor modelo entrenado: 0.7527\n"
     ]
    }
   ],
   "source": [
    "# Semilla para reproducibilidad\n",
    "np.random.seed(12345)\n",
    "\n",
    "# Predicciones aleatorias (0 o 1 con igual probabilidad)\n",
    "random_predictions = np.random.randint(0, 2, size=len(target_test))\n",
    "\n",
    "# Evalúa la exactitud del modelo aleatorio\n",
    "random_accuracy = accuracy_score(target_test, random_predictions)\n",
    "\n",
    "print('Exactitud del modelo aleatorio:', round(random_accuracy, 4))\n",
    "print('Exactitud del mejor modelo entrenado:', round(acc_test, 4))"
   ]
  },
  {
   "cell_type": "markdown",
   "id": "4178f739",
   "metadata": {},
   "source": [
    "## 15. Conclusiones del Proyecto\n",
    "\n",
    "En este proyecto desarrollamos un modelo de clasificación binaria para predecir cuál de los nuevos planes de la compañía Megaline (Smart o Ultra) es más adecuado para cada cliente en función de su comportamiento mensual.\n",
    "\n",
    "Durante el proceso:\n",
    "\n",
    "- Se evaluaron tres modelos de clasificación: Árbol de Decisión, Bosque Aleatorio y Regresión Logística.\n",
    "- Se ajustaron hiperparámetros clave (`max_depth` y `n_estimators`) para mejorar la exactitud de los modelos.\n",
    "- El mejor rendimiento se obtuvo con el modelo de Bosque Aleatorio, alcanzando una exactitud de **0.7527** en el conjunto de prueba.\n",
    "- Este valor **supera el umbral de exactitud del 75%** establecido como criterio mínimo de calidad.\n",
    "\n",
    "Además, se realizó una **prueba de cordura**, utilizando un clasificador que asignaba clases al azar. El modelo aleatorio obtuvo una exactitud de **0.4899**, muy por debajo del rendimiento de nuestro modelo entrenado. Esto confirma que el modelo desarrollado **aprende patrones reales** en los datos y no depende del azar.\n",
    "\n",
    "### Conclusión general:\n",
    "El modelo de Bosque Aleatorio es una solución válida y efectiva para recomendar planes a los clientes de Megaline con base en su comportamiento, y puede ser implementado como parte de una estrategia para sustituir los planes heredados por opciones más rentables y adecuadas.\n"
   ]
  }
 ],
 "metadata": {
  "kernelspec": {
   "display_name": "env",
   "language": "python",
   "name": "python3"
  },
  "language_info": {
   "codemirror_mode": {
    "name": "ipython",
    "version": 3
   },
   "file_extension": ".py",
   "mimetype": "text/x-python",
   "name": "python",
   "nbconvert_exporter": "python",
   "pygments_lexer": "ipython3",
   "version": "3.13.2"
  }
 },
 "nbformat": 4,
 "nbformat_minor": 5
}
